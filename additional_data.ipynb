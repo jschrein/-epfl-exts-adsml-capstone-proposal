{
 "cells": [
  {
   "cell_type": "code",
   "execution_count": 1,
   "metadata": {},
   "outputs": [],
   "source": [
    "import pandas as pd\n",
    "import numpy as np\n",
    "import os\n",
    "import matplotlib.pyplot as plt\n",
    "import seaborn as sns"
   ]
  },
  {
   "cell_type": "code",
   "execution_count": 2,
   "metadata": {},
   "outputs": [],
   "source": [
    "df = pd.read_csv(os.path.join(\"data\", \"processed\", \"regional_portraits.csv\"), index_col=\"commune_id\")"
   ]
  },
  {
   "cell_type": "code",
   "execution_count": 3,
   "metadata": {},
   "outputs": [
    {
     "data": {
      "text/plain": [
       "(2202, 44)"
      ]
     },
     "execution_count": 3,
     "metadata": {},
     "output_type": "execute_result"
    }
   ],
   "source": [
    "df.shape"
   ]
  },
  {
   "cell_type": "markdown",
   "metadata": {},
   "source": [
    "### Reading the language regions"
   ]
  },
  {
   "cell_type": "code",
   "execution_count": 4,
   "metadata": {},
   "outputs": [],
   "source": [
    "df_lang = pd.read_excel(os.path.join(\"data\", \"source\", \"20584_131.xlsx\"), header=4, skipfooter=11)\n",
    "new_cols = ['commune_id', 'name', \"language\" ]\n",
    "df_lang.columns = new_cols\n",
    "df_lang[\"commune_id\"] = df_lang[\"commune_id\"].astype(int)\n",
    "df_lang.set_index(\"commune_id\", inplace=True)\n",
    "df_lang.replace({ \"Deutsches Sprachgebiet\": \"de\", \"Französisches Sprachgebiet\": \"fr\", \n",
    "           \"Italienisches Sprachgebiet\": \"it\", \"Rätoromanisches Sprachgebiet\": \"rm\"}, inplace=True)"
   ]
  },
  {
   "cell_type": "code",
   "execution_count": 5,
   "metadata": {},
   "outputs": [
    {
     "data": {
      "text/html": [
       "<div>\n",
       "<style scoped>\n",
       "    .dataframe tbody tr th:only-of-type {\n",
       "        vertical-align: middle;\n",
       "    }\n",
       "\n",
       "    .dataframe tbody tr th {\n",
       "        vertical-align: top;\n",
       "    }\n",
       "\n",
       "    .dataframe thead th {\n",
       "        text-align: right;\n",
       "    }\n",
       "</style>\n",
       "<table border=\"1\" class=\"dataframe\">\n",
       "  <thead>\n",
       "    <tr style=\"text-align: right;\">\n",
       "      <th></th>\n",
       "      <th>name</th>\n",
       "      <th>language</th>\n",
       "    </tr>\n",
       "    <tr>\n",
       "      <th>commune_id</th>\n",
       "      <th></th>\n",
       "      <th></th>\n",
       "    </tr>\n",
       "  </thead>\n",
       "  <tbody>\n",
       "    <tr>\n",
       "      <th>1</th>\n",
       "      <td>Aeugst am Albis</td>\n",
       "      <td>de</td>\n",
       "    </tr>\n",
       "    <tr>\n",
       "      <th>2</th>\n",
       "      <td>Affoltern am Albis</td>\n",
       "      <td>de</td>\n",
       "    </tr>\n",
       "    <tr>\n",
       "      <th>3</th>\n",
       "      <td>Bonstetten</td>\n",
       "      <td>de</td>\n",
       "    </tr>\n",
       "  </tbody>\n",
       "</table>\n",
       "</div>"
      ],
      "text/plain": [
       "                          name language\n",
       "commune_id                             \n",
       "1              Aeugst am Albis       de\n",
       "2           Affoltern am Albis       de\n",
       "3                   Bonstetten       de"
      ]
     },
     "execution_count": 5,
     "metadata": {},
     "output_type": "execute_result"
    }
   ],
   "source": [
    "df_lang.head(3)"
   ]
  },
  {
   "cell_type": "code",
   "execution_count": 6,
   "metadata": {},
   "outputs": [
    {
     "data": {
      "text/html": [
       "<div>\n",
       "<style scoped>\n",
       "    .dataframe tbody tr th:only-of-type {\n",
       "        vertical-align: middle;\n",
       "    }\n",
       "\n",
       "    .dataframe tbody tr th {\n",
       "        vertical-align: top;\n",
       "    }\n",
       "\n",
       "    .dataframe thead th {\n",
       "        text-align: right;\n",
       "    }\n",
       "</style>\n",
       "<table border=\"1\" class=\"dataframe\">\n",
       "  <thead>\n",
       "    <tr style=\"text-align: right;\">\n",
       "      <th></th>\n",
       "      <th>name</th>\n",
       "      <th>language</th>\n",
       "    </tr>\n",
       "    <tr>\n",
       "      <th>commune_id</th>\n",
       "      <th></th>\n",
       "      <th></th>\n",
       "    </tr>\n",
       "  </thead>\n",
       "  <tbody>\n",
       "    <tr>\n",
       "      <th>6808</th>\n",
       "      <td>Clos du Doubs</td>\n",
       "      <td>fr</td>\n",
       "    </tr>\n",
       "    <tr>\n",
       "      <th>6809</th>\n",
       "      <td>Haute-Ajoie</td>\n",
       "      <td>fr</td>\n",
       "    </tr>\n",
       "    <tr>\n",
       "      <th>6810</th>\n",
       "      <td>La Baroche</td>\n",
       "      <td>fr</td>\n",
       "    </tr>\n",
       "  </tbody>\n",
       "</table>\n",
       "</div>"
      ],
      "text/plain": [
       "                     name language\n",
       "commune_id                        \n",
       "6808        Clos du Doubs       fr\n",
       "6809          Haute-Ajoie       fr\n",
       "6810           La Baroche       fr"
      ]
     },
     "execution_count": 6,
     "metadata": {},
     "output_type": "execute_result"
    }
   ],
   "source": [
    "df_lang.tail(3)"
   ]
  },
  {
   "cell_type": "markdown",
   "metadata": {},
   "source": [
    "### Join data and handle missing values"
   ]
  },
  {
   "cell_type": "code",
   "execution_count": 7,
   "metadata": {},
   "outputs": [],
   "source": [
    "df = df.join(df_lang, how=\"left\", rsuffix=\"_\")"
   ]
  },
  {
   "cell_type": "code",
   "execution_count": 8,
   "metadata": {},
   "outputs": [
    {
     "data": {
      "text/html": [
       "<div>\n",
       "<style scoped>\n",
       "    .dataframe tbody tr th:only-of-type {\n",
       "        vertical-align: middle;\n",
       "    }\n",
       "\n",
       "    .dataframe tbody tr th {\n",
       "        vertical-align: top;\n",
       "    }\n",
       "\n",
       "    .dataframe thead th {\n",
       "        text-align: right;\n",
       "    }\n",
       "</style>\n",
       "<table border=\"1\" class=\"dataframe\">\n",
       "  <thead>\n",
       "    <tr style=\"text-align: right;\">\n",
       "      <th></th>\n",
       "      <th>name</th>\n",
       "      <th>name_</th>\n",
       "      <th>language</th>\n",
       "    </tr>\n",
       "    <tr>\n",
       "      <th>commune_id</th>\n",
       "      <th></th>\n",
       "      <th></th>\n",
       "      <th></th>\n",
       "    </tr>\n",
       "  </thead>\n",
       "  <tbody>\n",
       "    <tr>\n",
       "      <th>292.0</th>\n",
       "      <td>Stammheim</td>\n",
       "      <td>NaN</td>\n",
       "      <td>NaN</td>\n",
       "    </tr>\n",
       "    <tr>\n",
       "      <th>293.0</th>\n",
       "      <td>Wädenswil</td>\n",
       "      <td>NaN</td>\n",
       "      <td>NaN</td>\n",
       "    </tr>\n",
       "    <tr>\n",
       "      <th>294.0</th>\n",
       "      <td>Elgg</td>\n",
       "      <td>NaN</td>\n",
       "      <td>NaN</td>\n",
       "    </tr>\n",
       "    <tr>\n",
       "      <th>295.0</th>\n",
       "      <td>Horgen</td>\n",
       "      <td>NaN</td>\n",
       "      <td>NaN</td>\n",
       "    </tr>\n",
       "    <tr>\n",
       "      <th>889.0</th>\n",
       "      <td>Thurnen</td>\n",
       "      <td>NaN</td>\n",
       "      <td>NaN</td>\n",
       "    </tr>\n",
       "    <tr>\n",
       "      <th>2117.0</th>\n",
       "      <td>Villaz</td>\n",
       "      <td>NaN</td>\n",
       "      <td>NaN</td>\n",
       "    </tr>\n",
       "    <tr>\n",
       "      <th>2237.0</th>\n",
       "      <td>Prez</td>\n",
       "      <td>NaN</td>\n",
       "      <td>NaN</td>\n",
       "    </tr>\n",
       "    <tr>\n",
       "      <th>3544.0</th>\n",
       "      <td>Bergün Filisur</td>\n",
       "      <td>NaN</td>\n",
       "      <td>NaN</td>\n",
       "    </tr>\n",
       "    <tr>\n",
       "      <th>3714.0</th>\n",
       "      <td>Rheinwald</td>\n",
       "      <td>NaN</td>\n",
       "      <td>NaN</td>\n",
       "    </tr>\n",
       "    <tr>\n",
       "      <th>5287.0</th>\n",
       "      <td>Riviera</td>\n",
       "      <td>NaN</td>\n",
       "      <td>NaN</td>\n",
       "    </tr>\n",
       "    <tr>\n",
       "      <th>6417.0</th>\n",
       "      <td>La Grande Béroche</td>\n",
       "      <td>NaN</td>\n",
       "      <td>NaN</td>\n",
       "    </tr>\n",
       "  </tbody>\n",
       "</table>\n",
       "</div>"
      ],
      "text/plain": [
       "                         name name_ language\n",
       "commune_id                                  \n",
       "292.0               Stammheim   NaN      NaN\n",
       "293.0               Wädenswil   NaN      NaN\n",
       "294.0                    Elgg   NaN      NaN\n",
       "295.0                  Horgen   NaN      NaN\n",
       "889.0                 Thurnen   NaN      NaN\n",
       "2117.0                 Villaz   NaN      NaN\n",
       "2237.0                   Prez   NaN      NaN\n",
       "3544.0         Bergün Filisur   NaN      NaN\n",
       "3714.0              Rheinwald   NaN      NaN\n",
       "5287.0                Riviera   NaN      NaN\n",
       "6417.0      La Grande Béroche   NaN      NaN"
      ]
     },
     "execution_count": 8,
     "metadata": {},
     "output_type": "execute_result"
    }
   ],
   "source": [
    "idx = (df[\"name\"] != df[\"name_\"])\n",
    "df.loc[idx, [\"name\", \"name_\", \"language\"]]"
   ]
  },
  {
   "cell_type": "code",
   "execution_count": 9,
   "metadata": {},
   "outputs": [],
   "source": [
    "# manual lookup of missing communes (new communes through mergers)\n",
    "df.loc[[292, 293, 294, 295, 889, 3544, 3714], \"language\"] = \"de\"\n",
    "df.loc[[2117, 2237, 6417], \"language\"] = \"fr\"\n",
    "df.loc[5287, \"language\"] = \"it\"\n",
    "df.drop(columns=\"name_\", inplace=True)"
   ]
  },
  {
   "cell_type": "markdown",
   "metadata": {},
   "source": [
    "Stammheim 292 (ex Oberstammheim, Unterstammheim, Waltalingen, 01.01.2019) de  \n",
    "Wädenswil 293 (ex Wädenswil 142, Hütten 134, Schönenberg (ZH), 01.01.2019) de  \n",
    "Elgg 294 (ex Elgg 217, Hofstetten (ZH) 222, 01.01.2018) de  \n",
    "Horgen 295 (ex Horgen 133, Hirzel 132, 01.01.2018) de  \n",
    "Thurnen 889 (ex Kirchenthurnen 873, Mühlethurnen 876, Lohnstorf 874, 01.01.2020 ) de  \n",
    "Villaz 2117 (ex Villaz-Saint-Pierre 2111, La Folliaz 2116, 01.01.2020) fr  \n",
    "Prez 2237 (ex Prez-vers-Noréaz 2221, Corserey 2185, Noréaz 2213, 01.01.2020) fr  \n",
    "Bergün Filisur 3544 (ex Bergün 3521, Filisur 3522, 01.01.2018) de  \n",
    "Rheinwald 3714 (ex Splügen 3694, Hinterrhein 3691, Nufenen 3693, 01.01.2019) de  \n",
    "Riviera 5287 (ex Cresciano 5283, Iragna 5284, Lodrino 5285, Osogna 5286, 02.04.2017) it  \n",
    "La Grande Béroche 6417 (ex Bevaix 6402, Fresens 6409, Gorgier 6410, Montalchez 6411, Saint-Aubin-Sauges 6414, Vaumarcus 6415, 01.01.2018) fr  "
   ]
  },
  {
   "cell_type": "markdown",
   "metadata": {},
   "source": [
    "### Preliminary EDA languages"
   ]
  },
  {
   "cell_type": "code",
   "execution_count": 10,
   "metadata": {},
   "outputs": [
    {
     "data": {
      "text/plain": [
       "de    1414\n",
       "fr     638\n",
       "it     130\n",
       "rm      20\n",
       "Name: language, dtype: int64"
      ]
     },
     "execution_count": 10,
     "metadata": {},
     "output_type": "execute_result"
    }
   ],
   "source": [
    "df.language.value_counts()"
   ]
  },
  {
   "cell_type": "code",
   "execution_count": 11,
   "metadata": {},
   "outputs": [
    {
     "data": {
      "text/plain": [
       "language\n",
       "de    0.642270\n",
       "fr    0.136041\n",
       "it    0.441801\n",
       "rm    0.458889\n",
       "Name: po_value, dtype: float64"
      ]
     },
     "execution_count": 11,
     "metadata": {},
     "output_type": "execute_result"
    }
   ],
   "source": [
    "df.groupby(by=\"language\")[\"po_value\"].mean()\n",
    "# it looks like the language region does indeed influence the po-value (\"röstigraben\")"
   ]
  },
  {
   "cell_type": "code",
   "execution_count": 12,
   "metadata": {},
   "outputs": [],
   "source": [
    "df = pd.get_dummies(df, columns=[\"language\"])\n",
    "df.to_csv(os.path.join(\"data\", \"processed\", \"regional_portraits2.csv\"))"
   ]
  },
  {
   "cell_type": "markdown",
   "metadata": {},
   "source": [
    "### Health insurance premiums"
   ]
  },
  {
   "cell_type": "code",
   "execution_count": 13,
   "metadata": {},
   "outputs": [],
   "source": [
    "df_premiums = pd.read_excel(os.path.join(\"data\", \"source\", \"praemienregionen-version-maerz-2020.xlsx\"), sheet_name=\"D_PRIM\", header=15)\n",
    "new_cols = ['commune_id', 'canton', \"name\", \"health_region\", \"health_premium_child\", \"health_premium_young\",\n",
    "            \"health_premium_adult\" ]\n",
    "df_premiums.columns = new_cols\n",
    "df_premiums.set_index(\"commune_id\", inplace=True)"
   ]
  },
  {
   "cell_type": "code",
   "execution_count": 14,
   "metadata": {},
   "outputs": [
    {
     "data": {
      "text/html": [
       "<div>\n",
       "<style scoped>\n",
       "    .dataframe tbody tr th:only-of-type {\n",
       "        vertical-align: middle;\n",
       "    }\n",
       "\n",
       "    .dataframe tbody tr th {\n",
       "        vertical-align: top;\n",
       "    }\n",
       "\n",
       "    .dataframe thead th {\n",
       "        text-align: right;\n",
       "    }\n",
       "</style>\n",
       "<table border=\"1\" class=\"dataframe\">\n",
       "  <thead>\n",
       "    <tr style=\"text-align: right;\">\n",
       "      <th></th>\n",
       "      <th>canton</th>\n",
       "      <th>name</th>\n",
       "      <th>health_region</th>\n",
       "      <th>health_premium_child</th>\n",
       "      <th>health_premium_young</th>\n",
       "      <th>health_premium_adult</th>\n",
       "    </tr>\n",
       "    <tr>\n",
       "      <th>commune_id</th>\n",
       "      <th></th>\n",
       "      <th></th>\n",
       "      <th></th>\n",
       "      <th></th>\n",
       "      <th></th>\n",
       "      <th></th>\n",
       "    </tr>\n",
       "  </thead>\n",
       "  <tbody>\n",
       "    <tr>\n",
       "      <th>1</th>\n",
       "      <td>ZH</td>\n",
       "      <td>Aeugst am Albis</td>\n",
       "      <td>3</td>\n",
       "      <td>90.31</td>\n",
       "      <td>242.1</td>\n",
       "      <td>335.73</td>\n",
       "    </tr>\n",
       "    <tr>\n",
       "      <th>2</th>\n",
       "      <td>ZH</td>\n",
       "      <td>Affoltern am Albis</td>\n",
       "      <td>3</td>\n",
       "      <td>90.31</td>\n",
       "      <td>242.1</td>\n",
       "      <td>335.73</td>\n",
       "    </tr>\n",
       "    <tr>\n",
       "      <th>3</th>\n",
       "      <td>ZH</td>\n",
       "      <td>Bonstetten</td>\n",
       "      <td>3</td>\n",
       "      <td>90.31</td>\n",
       "      <td>242.1</td>\n",
       "      <td>335.73</td>\n",
       "    </tr>\n",
       "  </tbody>\n",
       "</table>\n",
       "</div>"
      ],
      "text/plain": [
       "           canton                name  health_region  health_premium_child  \\\n",
       "commune_id                                                                   \n",
       "1              ZH     Aeugst am Albis              3                 90.31   \n",
       "2              ZH  Affoltern am Albis              3                 90.31   \n",
       "3              ZH          Bonstetten              3                 90.31   \n",
       "\n",
       "            health_premium_young  health_premium_adult  \n",
       "commune_id                                              \n",
       "1                          242.1                335.73  \n",
       "2                          242.1                335.73  \n",
       "3                          242.1                335.73  "
      ]
     },
     "execution_count": 14,
     "metadata": {},
     "output_type": "execute_result"
    }
   ],
   "source": [
    "df_premiums.head(3)"
   ]
  },
  {
   "cell_type": "code",
   "execution_count": 15,
   "metadata": {},
   "outputs": [
    {
     "data": {
      "text/html": [
       "<div>\n",
       "<style scoped>\n",
       "    .dataframe tbody tr th:only-of-type {\n",
       "        vertical-align: middle;\n",
       "    }\n",
       "\n",
       "    .dataframe tbody tr th {\n",
       "        vertical-align: top;\n",
       "    }\n",
       "\n",
       "    .dataframe thead th {\n",
       "        text-align: right;\n",
       "    }\n",
       "</style>\n",
       "<table border=\"1\" class=\"dataframe\">\n",
       "  <thead>\n",
       "    <tr style=\"text-align: right;\">\n",
       "      <th></th>\n",
       "      <th>canton</th>\n",
       "      <th>name</th>\n",
       "      <th>health_region</th>\n",
       "      <th>health_premium_child</th>\n",
       "      <th>health_premium_young</th>\n",
       "      <th>health_premium_adult</th>\n",
       "    </tr>\n",
       "    <tr>\n",
       "      <th>commune_id</th>\n",
       "      <th></th>\n",
       "      <th></th>\n",
       "      <th></th>\n",
       "      <th></th>\n",
       "      <th></th>\n",
       "      <th></th>\n",
       "    </tr>\n",
       "  </thead>\n",
       "  <tbody>\n",
       "    <tr>\n",
       "      <th>6808</th>\n",
       "      <td>JU</td>\n",
       "      <td>Clos du Doubs</td>\n",
       "      <td>0</td>\n",
       "      <td>101.16</td>\n",
       "      <td>267.96</td>\n",
       "      <td>406.54</td>\n",
       "    </tr>\n",
       "    <tr>\n",
       "      <th>6809</th>\n",
       "      <td>JU</td>\n",
       "      <td>Haute-Ajoie</td>\n",
       "      <td>0</td>\n",
       "      <td>101.16</td>\n",
       "      <td>267.96</td>\n",
       "      <td>406.54</td>\n",
       "    </tr>\n",
       "    <tr>\n",
       "      <th>6810</th>\n",
       "      <td>JU</td>\n",
       "      <td>La Baroche</td>\n",
       "      <td>0</td>\n",
       "      <td>101.16</td>\n",
       "      <td>267.96</td>\n",
       "      <td>406.54</td>\n",
       "    </tr>\n",
       "  </tbody>\n",
       "</table>\n",
       "</div>"
      ],
      "text/plain": [
       "           canton           name  health_region  health_premium_child  \\\n",
       "commune_id                                                              \n",
       "6808           JU  Clos du Doubs              0                101.16   \n",
       "6809           JU    Haute-Ajoie              0                101.16   \n",
       "6810           JU     La Baroche              0                101.16   \n",
       "\n",
       "            health_premium_young  health_premium_adult  \n",
       "commune_id                                              \n",
       "6808                      267.96                406.54  \n",
       "6809                      267.96                406.54  \n",
       "6810                      267.96                406.54  "
      ]
     },
     "execution_count": 15,
     "metadata": {},
     "output_type": "execute_result"
    }
   ],
   "source": [
    "df_premiums.tail(3)"
   ]
  },
  {
   "cell_type": "code",
   "execution_count": 16,
   "metadata": {},
   "outputs": [],
   "source": [
    "df = df.join(df_premiums, how=\"left\", rsuffix=\"_\")"
   ]
  },
  {
   "cell_type": "code",
   "execution_count": 17,
   "metadata": {},
   "outputs": [
    {
     "data": {
      "text/html": [
       "<div>\n",
       "<style scoped>\n",
       "    .dataframe tbody tr th:only-of-type {\n",
       "        vertical-align: middle;\n",
       "    }\n",
       "\n",
       "    .dataframe tbody tr th {\n",
       "        vertical-align: top;\n",
       "    }\n",
       "\n",
       "    .dataframe thead th {\n",
       "        text-align: right;\n",
       "    }\n",
       "</style>\n",
       "<table border=\"1\" class=\"dataframe\">\n",
       "  <thead>\n",
       "    <tr style=\"text-align: right;\">\n",
       "      <th></th>\n",
       "      <th>name</th>\n",
       "      <th>name_</th>\n",
       "      <th>canton</th>\n",
       "      <th>health_region</th>\n",
       "      <th>health_premium_adult</th>\n",
       "    </tr>\n",
       "    <tr>\n",
       "      <th>commune_id</th>\n",
       "      <th></th>\n",
       "      <th></th>\n",
       "      <th></th>\n",
       "      <th></th>\n",
       "      <th></th>\n",
       "    </tr>\n",
       "  </thead>\n",
       "  <tbody>\n",
       "    <tr>\n",
       "      <th>889.0</th>\n",
       "      <td>Thurnen</td>\n",
       "      <td>NaN</td>\n",
       "      <td>NaN</td>\n",
       "      <td>NaN</td>\n",
       "      <td>NaN</td>\n",
       "    </tr>\n",
       "    <tr>\n",
       "      <th>2117.0</th>\n",
       "      <td>Villaz</td>\n",
       "      <td>NaN</td>\n",
       "      <td>NaN</td>\n",
       "      <td>NaN</td>\n",
       "      <td>NaN</td>\n",
       "    </tr>\n",
       "    <tr>\n",
       "      <th>2237.0</th>\n",
       "      <td>Prez</td>\n",
       "      <td>NaN</td>\n",
       "      <td>NaN</td>\n",
       "      <td>NaN</td>\n",
       "      <td>NaN</td>\n",
       "    </tr>\n",
       "    <tr>\n",
       "      <th>6417.0</th>\n",
       "      <td>La Grande Béroche</td>\n",
       "      <td>La Grande-Béroche</td>\n",
       "      <td>NE</td>\n",
       "      <td>0.0</td>\n",
       "      <td>426.53</td>\n",
       "    </tr>\n",
       "  </tbody>\n",
       "</table>\n",
       "</div>"
      ],
      "text/plain": [
       "                         name              name_ canton  health_region  \\\n",
       "commune_id                                                               \n",
       "889.0                 Thurnen                NaN    NaN            NaN   \n",
       "2117.0                 Villaz                NaN    NaN            NaN   \n",
       "2237.0                   Prez                NaN    NaN            NaN   \n",
       "6417.0      La Grande Béroche  La Grande-Béroche     NE            0.0   \n",
       "\n",
       "            health_premium_adult  \n",
       "commune_id                        \n",
       "889.0                        NaN  \n",
       "2117.0                       NaN  \n",
       "2237.0                       NaN  \n",
       "6417.0                    426.53  "
      ]
     },
     "execution_count": 17,
     "metadata": {},
     "output_type": "execute_result"
    }
   ],
   "source": [
    "idx = (df[\"name\"] != df[\"name_\"])\n",
    "df.loc[idx, [\"name\", \"name_\", \"canton\", \"health_region\", \"health_premium_adult\"]]"
   ]
  },
  {
   "cell_type": "markdown",
   "metadata": {},
   "source": [
    "As above  \n",
    "Thurnen 889 (ex Kirchenthurnen 873, Mühlethurnen 876, Lohnstorf 874, 01.01.2020)  \n",
    "Villaz 2117 (ex Villaz-Saint-Pierre 2111, La Folliaz 2116, 01.01.2020)  \n",
    "Prez 2237 (ex Prez-vers-Noréaz 2221, Corserey 2185, Noréaz 2213, 01.01.2020)  "
   ]
  },
  {
   "cell_type": "code",
   "execution_count": 18,
   "metadata": {},
   "outputs": [],
   "source": [
    "# all ex communes have same values\n",
    "# df_premiums.loc[[873, 874, 876]]\n",
    "# df_premiums.loc[[2111, 2116]]\n",
    "# df_premiums.loc[[2185, 2213, 2221]]\n",
    "cols = [\"canton\", \"health_region\", \"health_premium_child\", \"health_premium_young\", \"health_premium_adult\"]\n",
    "df.loc[889, cols] = df_premiums.loc[873, cols]\n",
    "df.loc[2117, cols] = df_premiums.loc[2111, cols]\n",
    "df.loc[2237, cols] = df_premiums.loc[2185, cols]"
   ]
  },
  {
   "cell_type": "code",
   "execution_count": 19,
   "metadata": {},
   "outputs": [
    {
     "data": {
      "text/plain": [
       "health_region\n",
       "0.0    360.611174\n",
       "1.0    406.027564\n",
       "2.0    367.705518\n",
       "3.0    328.875167\n",
       "Name: health_premium_adult, dtype: float64"
      ]
     },
     "execution_count": 19,
     "metadata": {},
     "output_type": "execute_result"
    }
   ],
   "source": [
    "df.groupby(by=\"health_region\").mean()[\"health_premium_adult\"]"
   ]
  },
  {
   "cell_type": "code",
   "execution_count": 20,
   "metadata": {},
   "outputs": [],
   "source": [
    "# health region zero: cantons that have no regions at all\n",
    "# their premiums are closest to region 2 premiums and we set them as 2\n",
    "idx = (df[\"health_region\"] == 0)\n",
    "df.loc[idx, \"health_region\"] = 2\n",
    "df.drop(columns=\"name_\", inplace=True)"
   ]
  },
  {
   "cell_type": "markdown",
   "metadata": {},
   "source": [
    "### Preliminary EDA health insurance premiums"
   ]
  },
  {
   "cell_type": "code",
   "execution_count": 21,
   "metadata": {},
   "outputs": [
    {
     "data": {
      "text/html": [
       "<div>\n",
       "<style scoped>\n",
       "    .dataframe tbody tr th:only-of-type {\n",
       "        vertical-align: middle;\n",
       "    }\n",
       "\n",
       "    .dataframe tbody tr th {\n",
       "        vertical-align: top;\n",
       "    }\n",
       "\n",
       "    .dataframe thead th {\n",
       "        text-align: right;\n",
       "    }\n",
       "</style>\n",
       "<table border=\"1\" class=\"dataframe\">\n",
       "  <thead>\n",
       "    <tr style=\"text-align: right;\">\n",
       "      <th></th>\n",
       "      <th>health_premium_child</th>\n",
       "      <th>health_premium_young</th>\n",
       "      <th>health_premium_adult</th>\n",
       "    </tr>\n",
       "  </thead>\n",
       "  <tbody>\n",
       "    <tr>\n",
       "      <th>count</th>\n",
       "      <td>2202.000000</td>\n",
       "      <td>2202.000000</td>\n",
       "      <td>2202.000000</td>\n",
       "    </tr>\n",
       "    <tr>\n",
       "      <th>mean</th>\n",
       "      <td>95.681471</td>\n",
       "      <td>258.043924</td>\n",
       "      <td>365.441880</td>\n",
       "    </tr>\n",
       "    <tr>\n",
       "      <th>std</th>\n",
       "      <td>11.595043</td>\n",
       "      <td>33.090565</td>\n",
       "      <td>40.484716</td>\n",
       "    </tr>\n",
       "    <tr>\n",
       "      <th>min</th>\n",
       "      <td>68.510000</td>\n",
       "      <td>171.790000</td>\n",
       "      <td>266.400000</td>\n",
       "    </tr>\n",
       "    <tr>\n",
       "      <th>25%</th>\n",
       "      <td>87.500000</td>\n",
       "      <td>237.010000</td>\n",
       "      <td>335.910000</td>\n",
       "    </tr>\n",
       "    <tr>\n",
       "      <th>50%</th>\n",
       "      <td>94.820000</td>\n",
       "      <td>254.880000</td>\n",
       "      <td>363.220000</td>\n",
       "    </tr>\n",
       "    <tr>\n",
       "      <th>75%</th>\n",
       "      <td>101.160000</td>\n",
       "      <td>271.620000</td>\n",
       "      <td>402.490000</td>\n",
       "    </tr>\n",
       "    <tr>\n",
       "      <th>max</th>\n",
       "      <td>129.150000</td>\n",
       "      <td>372.630000</td>\n",
       "      <td>483.150000</td>\n",
       "    </tr>\n",
       "  </tbody>\n",
       "</table>\n",
       "</div>"
      ],
      "text/plain": [
       "       health_premium_child  health_premium_young  health_premium_adult\n",
       "count           2202.000000           2202.000000           2202.000000\n",
       "mean              95.681471            258.043924            365.441880\n",
       "std               11.595043             33.090565             40.484716\n",
       "min               68.510000            171.790000            266.400000\n",
       "25%               87.500000            237.010000            335.910000\n",
       "50%               94.820000            254.880000            363.220000\n",
       "75%              101.160000            271.620000            402.490000\n",
       "max              129.150000            372.630000            483.150000"
      ]
     },
     "execution_count": 21,
     "metadata": {},
     "output_type": "execute_result"
    }
   ],
   "source": [
    "df[[\"health_premium_child\",\"health_premium_young\", \"health_premium_adult\"]].describe()"
   ]
  },
  {
   "cell_type": "code",
   "execution_count": 22,
   "metadata": {},
   "outputs": [
    {
     "data": {
      "image/png": "[encoded data removed]",
      "text/plain": [
       "<Figure size 432x288 with 1 Axes>"
      ]
     },
     "metadata": {
      "needs_background": "light"
     },
     "output_type": "display_data"
    }
   ],
   "source": [
    "sns.distplot(df[\"health_premium_adult\"], kde=False);"
   ]
  },
  {
   "cell_type": "code",
   "execution_count": 23,
   "metadata": {},
   "outputs": [
    {
     "data": {
      "text/html": [
       "<div>\n",
       "<style scoped>\n",
       "    .dataframe tbody tr th:only-of-type {\n",
       "        vertical-align: middle;\n",
       "    }\n",
       "\n",
       "    .dataframe tbody tr th {\n",
       "        vertical-align: top;\n",
       "    }\n",
       "\n",
       "    .dataframe thead th {\n",
       "        text-align: right;\n",
       "    }\n",
       "</style>\n",
       "<table border=\"1\" class=\"dataframe\">\n",
       "  <thead>\n",
       "    <tr style=\"text-align: right;\">\n",
       "      <th></th>\n",
       "      <th>health_premium_child</th>\n",
       "      <th>health_premium_young</th>\n",
       "      <th>health_premium_adult</th>\n",
       "      <th>po_value</th>\n",
       "    </tr>\n",
       "  </thead>\n",
       "  <tbody>\n",
       "    <tr>\n",
       "      <th>health_premium_child</th>\n",
       "      <td>1.000000</td>\n",
       "      <td>0.957438</td>\n",
       "      <td>0.963999</td>\n",
       "      <td>-0.532757</td>\n",
       "    </tr>\n",
       "    <tr>\n",
       "      <th>health_premium_young</th>\n",
       "      <td>0.957438</td>\n",
       "      <td>1.000000</td>\n",
       "      <td>0.948508</td>\n",
       "      <td>-0.558060</td>\n",
       "    </tr>\n",
       "    <tr>\n",
       "      <th>health_premium_adult</th>\n",
       "      <td>0.963999</td>\n",
       "      <td>0.948508</td>\n",
       "      <td>1.000000</td>\n",
       "      <td>-0.518940</td>\n",
       "    </tr>\n",
       "    <tr>\n",
       "      <th>po_value</th>\n",
       "      <td>-0.532757</td>\n",
       "      <td>-0.558060</td>\n",
       "      <td>-0.518940</td>\n",
       "      <td>1.000000</td>\n",
       "    </tr>\n",
       "  </tbody>\n",
       "</table>\n",
       "</div>"
      ],
      "text/plain": [
       "                      health_premium_child  health_premium_young  \\\n",
       "health_premium_child              1.000000              0.957438   \n",
       "health_premium_young              0.957438              1.000000   \n",
       "health_premium_adult              0.963999              0.948508   \n",
       "po_value                         -0.532757             -0.558060   \n",
       "\n",
       "                      health_premium_adult  po_value  \n",
       "health_premium_child              0.963999 -0.532757  \n",
       "health_premium_young              0.948508 -0.558060  \n",
       "health_premium_adult              1.000000 -0.518940  \n",
       "po_value                         -0.518940  1.000000  "
      ]
     },
     "execution_count": 23,
     "metadata": {},
     "output_type": "execute_result"
    }
   ],
   "source": [
    "df[[\"health_premium_child\",\"health_premium_young\", \"health_premium_adult\", \"po_value\"]].corr()"
   ]
  },
  {
   "cell_type": "markdown",
   "metadata": {},
   "source": [
    "That is the best correlation found so far ~ -0.5. Political orientation and health premiums (i.e. health costs) are correlated."
   ]
  },
  {
   "cell_type": "code",
   "execution_count": 24,
   "metadata": {},
   "outputs": [
    {
     "data": {
      "text/plain": [
       "canton\n",
       "NE   -0.126306\n",
       "GE   -0.077506\n",
       "JU   -0.048115\n",
       "BS    0.145005\n",
       "VD    0.154801\n",
       "BL    0.236412\n",
       "VS    0.281907\n",
       "FR    0.283175\n",
       "ZG    0.293656\n",
       "GL    0.308422\n",
       "TI    0.408221\n",
       "SO    0.445810\n",
       "LU    0.502059\n",
       "AI    0.545316\n",
       "SG    0.614731\n",
       "ZH    0.625123\n",
       "AG    0.632785\n",
       "GR    0.640945\n",
       "UR    0.682868\n",
       "TG    0.702993\n",
       "BE    0.776854\n",
       "SH    0.847708\n",
       "SZ    0.920607\n",
       "OW    0.967382\n",
       "NW    1.320663\n",
       "AR    1.514270\n",
       "Name: po_value, dtype: float64"
      ]
     },
     "execution_count": 24,
     "metadata": {},
     "output_type": "execute_result"
    }
   ],
   "source": [
    "# geography (cantons) matter a lot for po-values (similar to language)\n",
    "df.groupby(by=\"canton\").mean()[\"po_value\"].sort_values()"
   ]
  },
  {
   "cell_type": "code",
   "execution_count": 25,
   "metadata": {},
   "outputs": [],
   "source": [
    "df.to_csv(os.path.join(\"data\", \"processed\", \"regional_portraits3.csv\"))"
   ]
  },
  {
   "cell_type": "markdown",
   "metadata": {},
   "source": [
    "### Taxable income"
   ]
  },
  {
   "cell_type": "code",
   "execution_count": 26,
   "metadata": {},
   "outputs": [],
   "source": [
    "df_inc = pd.read_excel(os.path.join(\"data\", \"source\",\"23875_131.xlsx\"), header=5, skipfooter=11)\n",
    "new_cols = ['commune_id', 'name', 'total_tax_income', 'per_capita_tax_income']\n",
    "df_inc.columns = new_cols\n",
    "df_inc.set_index(\"commune_id\", inplace=True)"
   ]
  },
  {
   "cell_type": "code",
   "execution_count": 27,
   "metadata": {},
   "outputs": [
    {
     "data": {
      "text/html": [
       "<div>\n",
       "<style scoped>\n",
       "    .dataframe tbody tr th:only-of-type {\n",
       "        vertical-align: middle;\n",
       "    }\n",
       "\n",
       "    .dataframe tbody tr th {\n",
       "        vertical-align: top;\n",
       "    }\n",
       "\n",
       "    .dataframe thead th {\n",
       "        text-align: right;\n",
       "    }\n",
       "</style>\n",
       "<table border=\"1\" class=\"dataframe\">\n",
       "  <thead>\n",
       "    <tr style=\"text-align: right;\">\n",
       "      <th></th>\n",
       "      <th>name</th>\n",
       "      <th>total_tax_income</th>\n",
       "      <th>per_capita_tax_income</th>\n",
       "    </tr>\n",
       "    <tr>\n",
       "      <th>commune_id</th>\n",
       "      <th></th>\n",
       "      <th></th>\n",
       "      <th></th>\n",
       "    </tr>\n",
       "  </thead>\n",
       "  <tbody>\n",
       "    <tr>\n",
       "      <th>1</th>\n",
       "      <td>Aeugst am Albis</td>\n",
       "      <td>101.3324</td>\n",
       "      <td>51255.639858</td>\n",
       "    </tr>\n",
       "    <tr>\n",
       "      <th>2</th>\n",
       "      <td>Affoltern am Albis</td>\n",
       "      <td>381.2711</td>\n",
       "      <td>32039.588235</td>\n",
       "    </tr>\n",
       "    <tr>\n",
       "      <th>3</th>\n",
       "      <td>Bonstetten</td>\n",
       "      <td>214.2104</td>\n",
       "      <td>39413.137075</td>\n",
       "    </tr>\n",
       "  </tbody>\n",
       "</table>\n",
       "</div>"
      ],
      "text/plain": [
       "                          name  total_tax_income  per_capita_tax_income\n",
       "commune_id                                                             \n",
       "1              Aeugst am Albis          101.3324           51255.639858\n",
       "2           Affoltern am Albis          381.2711           32039.588235\n",
       "3                   Bonstetten          214.2104           39413.137075"
      ]
     },
     "execution_count": 27,
     "metadata": {},
     "output_type": "execute_result"
    }
   ],
   "source": [
    "df_inc.head(3)"
   ]
  },
  {
   "cell_type": "code",
   "execution_count": 28,
   "metadata": {},
   "outputs": [
    {
     "data": {
      "text/html": [
       "<div>\n",
       "<style scoped>\n",
       "    .dataframe tbody tr th:only-of-type {\n",
       "        vertical-align: middle;\n",
       "    }\n",
       "\n",
       "    .dataframe tbody tr th {\n",
       "        vertical-align: top;\n",
       "    }\n",
       "\n",
       "    .dataframe thead th {\n",
       "        text-align: right;\n",
       "    }\n",
       "</style>\n",
       "<table border=\"1\" class=\"dataframe\">\n",
       "  <thead>\n",
       "    <tr style=\"text-align: right;\">\n",
       "      <th></th>\n",
       "      <th>name</th>\n",
       "      <th>total_tax_income</th>\n",
       "      <th>per_capita_tax_income</th>\n",
       "    </tr>\n",
       "    <tr>\n",
       "      <th>commune_id</th>\n",
       "      <th></th>\n",
       "      <th></th>\n",
       "      <th></th>\n",
       "    </tr>\n",
       "  </thead>\n",
       "  <tbody>\n",
       "    <tr>\n",
       "      <th>6808</th>\n",
       "      <td>Clos du Doubs</td>\n",
       "      <td>28.8851</td>\n",
       "      <td>21866.086298</td>\n",
       "    </tr>\n",
       "    <tr>\n",
       "      <th>6809</th>\n",
       "      <td>Haute-Ajoie</td>\n",
       "      <td>22.9044</td>\n",
       "      <td>24340.488842</td>\n",
       "    </tr>\n",
       "    <tr>\n",
       "      <th>6810</th>\n",
       "      <td>La Baroche</td>\n",
       "      <td>25.8921</td>\n",
       "      <td>21363.118812</td>\n",
       "    </tr>\n",
       "  </tbody>\n",
       "</table>\n",
       "</div>"
      ],
      "text/plain": [
       "                     name  total_tax_income  per_capita_tax_income\n",
       "commune_id                                                        \n",
       "6808        Clos du Doubs           28.8851           21866.086298\n",
       "6809          Haute-Ajoie           22.9044           24340.488842\n",
       "6810           La Baroche           25.8921           21363.118812"
      ]
     },
     "execution_count": 28,
     "metadata": {},
     "output_type": "execute_result"
    }
   ],
   "source": [
    "df_inc.tail(3)"
   ]
  },
  {
   "cell_type": "code",
   "execution_count": 29,
   "metadata": {},
   "outputs": [],
   "source": [
    "df = df.join(df_inc, how=\"left\", rsuffix=\"_\")"
   ]
  },
  {
   "cell_type": "code",
   "execution_count": 30,
   "metadata": {},
   "outputs": [
    {
     "data": {
      "text/html": [
       "<div>\n",
       "<style scoped>\n",
       "    .dataframe tbody tr th:only-of-type {\n",
       "        vertical-align: middle;\n",
       "    }\n",
       "\n",
       "    .dataframe tbody tr th {\n",
       "        vertical-align: top;\n",
       "    }\n",
       "\n",
       "    .dataframe thead th {\n",
       "        text-align: right;\n",
       "    }\n",
       "</style>\n",
       "<table border=\"1\" class=\"dataframe\">\n",
       "  <thead>\n",
       "    <tr style=\"text-align: right;\">\n",
       "      <th></th>\n",
       "      <th>name</th>\n",
       "      <th>name_</th>\n",
       "      <th>total_tax_income</th>\n",
       "      <th>per_capita_tax_income</th>\n",
       "    </tr>\n",
       "    <tr>\n",
       "      <th>commune_id</th>\n",
       "      <th></th>\n",
       "      <th></th>\n",
       "      <th></th>\n",
       "      <th></th>\n",
       "    </tr>\n",
       "  </thead>\n",
       "  <tbody>\n",
       "    <tr>\n",
       "      <th>292.0</th>\n",
       "      <td>Stammheim</td>\n",
       "      <td>NaN</td>\n",
       "      <td>NaN</td>\n",
       "      <td>NaN</td>\n",
       "    </tr>\n",
       "    <tr>\n",
       "      <th>293.0</th>\n",
       "      <td>Wädenswil</td>\n",
       "      <td>NaN</td>\n",
       "      <td>NaN</td>\n",
       "      <td>NaN</td>\n",
       "    </tr>\n",
       "    <tr>\n",
       "      <th>294.0</th>\n",
       "      <td>Elgg</td>\n",
       "      <td>NaN</td>\n",
       "      <td>NaN</td>\n",
       "      <td>NaN</td>\n",
       "    </tr>\n",
       "    <tr>\n",
       "      <th>295.0</th>\n",
       "      <td>Horgen</td>\n",
       "      <td>NaN</td>\n",
       "      <td>NaN</td>\n",
       "      <td>NaN</td>\n",
       "    </tr>\n",
       "    <tr>\n",
       "      <th>889.0</th>\n",
       "      <td>Thurnen</td>\n",
       "      <td>NaN</td>\n",
       "      <td>NaN</td>\n",
       "      <td>NaN</td>\n",
       "    </tr>\n",
       "    <tr>\n",
       "      <th>2054.0</th>\n",
       "      <td>Estavayer</td>\n",
       "      <td>NaN</td>\n",
       "      <td>NaN</td>\n",
       "      <td>NaN</td>\n",
       "    </tr>\n",
       "    <tr>\n",
       "      <th>2055.0</th>\n",
       "      <td>Cheyres-Châbles</td>\n",
       "      <td>NaN</td>\n",
       "      <td>NaN</td>\n",
       "      <td>NaN</td>\n",
       "    </tr>\n",
       "    <tr>\n",
       "      <th>2117.0</th>\n",
       "      <td>Villaz</td>\n",
       "      <td>NaN</td>\n",
       "      <td>NaN</td>\n",
       "      <td>NaN</td>\n",
       "    </tr>\n",
       "    <tr>\n",
       "      <th>2237.0</th>\n",
       "      <td>Prez</td>\n",
       "      <td>NaN</td>\n",
       "      <td>NaN</td>\n",
       "      <td>NaN</td>\n",
       "    </tr>\n",
       "    <tr>\n",
       "      <th>3544.0</th>\n",
       "      <td>Bergün Filisur</td>\n",
       "      <td>NaN</td>\n",
       "      <td>NaN</td>\n",
       "      <td>NaN</td>\n",
       "    </tr>\n",
       "    <tr>\n",
       "      <th>3714.0</th>\n",
       "      <td>Rheinwald</td>\n",
       "      <td>NaN</td>\n",
       "      <td>NaN</td>\n",
       "      <td>NaN</td>\n",
       "    </tr>\n",
       "    <tr>\n",
       "      <th>5287.0</th>\n",
       "      <td>Riviera</td>\n",
       "      <td>NaN</td>\n",
       "      <td>NaN</td>\n",
       "      <td>NaN</td>\n",
       "    </tr>\n",
       "    <tr>\n",
       "      <th>5806.0</th>\n",
       "      <td>Jorat-Mézières</td>\n",
       "      <td>NaN</td>\n",
       "      <td>NaN</td>\n",
       "      <td>NaN</td>\n",
       "    </tr>\n",
       "    <tr>\n",
       "      <th>6077.0</th>\n",
       "      <td>Goms</td>\n",
       "      <td>NaN</td>\n",
       "      <td>NaN</td>\n",
       "      <td>NaN</td>\n",
       "    </tr>\n",
       "    <tr>\n",
       "      <th>6253.0</th>\n",
       "      <td>Crans-Montana</td>\n",
       "      <td>NaN</td>\n",
       "      <td>NaN</td>\n",
       "      <td>NaN</td>\n",
       "    </tr>\n",
       "    <tr>\n",
       "      <th>6417.0</th>\n",
       "      <td>La Grande Béroche</td>\n",
       "      <td>NaN</td>\n",
       "      <td>NaN</td>\n",
       "      <td>NaN</td>\n",
       "    </tr>\n",
       "  </tbody>\n",
       "</table>\n",
       "</div>"
      ],
      "text/plain": [
       "                         name name_  total_tax_income  per_capita_tax_income\n",
       "commune_id                                                                  \n",
       "292.0               Stammheim   NaN               NaN                    NaN\n",
       "293.0               Wädenswil   NaN               NaN                    NaN\n",
       "294.0                    Elgg   NaN               NaN                    NaN\n",
       "295.0                  Horgen   NaN               NaN                    NaN\n",
       "889.0                 Thurnen   NaN               NaN                    NaN\n",
       "2054.0              Estavayer   NaN               NaN                    NaN\n",
       "2055.0        Cheyres-Châbles   NaN               NaN                    NaN\n",
       "2117.0                 Villaz   NaN               NaN                    NaN\n",
       "2237.0                   Prez   NaN               NaN                    NaN\n",
       "3544.0         Bergün Filisur   NaN               NaN                    NaN\n",
       "3714.0              Rheinwald   NaN               NaN                    NaN\n",
       "5287.0                Riviera   NaN               NaN                    NaN\n",
       "5806.0         Jorat-Mézières   NaN               NaN                    NaN\n",
       "6077.0                   Goms   NaN               NaN                    NaN\n",
       "6253.0          Crans-Montana   NaN               NaN                    NaN\n",
       "6417.0      La Grande Béroche   NaN               NaN                    NaN"
      ]
     },
     "execution_count": 30,
     "metadata": {},
     "output_type": "execute_result"
    }
   ],
   "source": [
    "idx = (df[\"name\"] != df[\"name_\"])\n",
    "df.loc[idx, [\"name\", \"name_\", \"total_tax_income\", \"per_capita_tax_income\"]]"
   ]
  },
  {
   "cell_type": "markdown",
   "metadata": {},
   "source": [
    "Stammheim 292 (ex Oberstammheim, Unterstammheim, Waltalingen, 01.01.2019) de  \n",
    "Wädenswil 293 (ex Wädenswil 142, Hütten 134, Schönenberg (ZH) 140, 01.01.2019) de  \n",
    "Elgg 294 (ex Elgg 217, Hofstetten (ZH) 222, 01.01.2018) de  \n",
    "Horgen 295 (ex Horgen 133, Hirzel 132, 01.01.2018) de  \n",
    "Thurnen 889 (ex Kirchenthurnen 873, Mühlethurnen 876, Lohnstorf 874, 01.01.2020 ) de  \n",
    "Estavayer 2054 (ex  Bussy 2004, Estavayer-le-Lac 2015, Morens 2033, Murist 2034, Rueyres-les-Prés 2039, Vernay 2052, Vuissens 2049) 01.01.2017  \n",
    "Cheyres-Châbles 2055 (ex Châbles 2005, Cheyres 2010)  \n",
    "Villaz 2117 (ex Villaz-Saint-Pierre 2111, La Folliaz 2116, 01.01.2020) fr  \n",
    "Prez 2237 (ex Prez-vers-Noréaz 2221, Corserey 2185, Noréaz 2213, 01.01.2020) fr  \n",
    "Bergün Filisur 3544 (ex Bergün 3521, Filisur 3522, 01.01.2018) de  \n",
    "Rheinwald 3714 (ex Splügen 3694, Hinterrhein 3691, Nufenen 3693, 01.01.2019) de  \n",
    "Riviera 5287 (ex Cresciano 5283, Iragna 5284, Lodrino 5285, Osogna 5286, 02.04.2017) it  \n",
    "Jorat-Mézières 5806 (ex Carrouge 5782, Ferlens 5789, Mézières 5791) 01.01.2016  \n",
    "Goms 6077 (ex Blitzingen 6055, Niederwald 6064, Grafschaft 6073, Münster-Geschinen 6074, Reckingen-Gluringen 6075) 01.01.2017  \n",
    "Crans-Montana 6253 (ex Chermignon 6234, Mollens (VS) 6242, Montana 6243, Randogne 6244) 01.01.2017  \n",
    "La Grande Béroche 6417 (ex Bevaix 6402, Fresens 6409, Gorgier 6410, Montalchez 6411, Saint-Aubin-Sauges 6414, Vaumarcus 6415, 01.01.2018) fr  "
   ]
  },
  {
   "cell_type": "code",
   "execution_count": 31,
   "metadata": {},
   "outputs": [],
   "source": [
    "df_inc[\"capita\"] = 1e6 * df_inc[\"total_tax_income\"] / df_inc[\"per_capita_tax_income\"]\n",
    "\n",
    "def calc_tax(df, df_inc, comm_id, old_comm_ids):\n",
    "    df.loc[comm_id, \"total_tax_income\"] = df_inc.loc[old_comm_ids, \"total_tax_income\"].sum()\n",
    "    df.loc[comm_id, \"per_capita_tax_income\"] = \\\n",
    "        1e6 * df_inc.loc[old_comm_ids, \"total_tax_income\"].sum() / df_inc.loc[old_comm_ids, \"capita\"].sum()\n",
    "\n",
    "calc_tax(df, df_inc, 292, [36, 42, 44])\n",
    "calc_tax(df, df_inc, 293, [134, 140, 142])\n",
    "calc_tax(df, df_inc, 294, [217, 222])\n",
    "calc_tax(df, df_inc, 295, [132, 133])\n",
    "calc_tax(df, df_inc, 889, [873, 874, 876])\n",
    "calc_tax(df, df_inc, 2054, [2004, 2015, 2033, 2034, 2039, 2049, 2052])\n",
    "calc_tax(df, df_inc, 2055, [2005, 2010])\n",
    "calc_tax(df, df_inc, 2117, [2111, 2116])\n",
    "calc_tax(df, df_inc, 2237, [2185, 2213, 2221])\n",
    "calc_tax(df, df_inc, 3544, [3521, 3522])\n",
    "calc_tax(df, df_inc, 3714, [3691, 3693, 3694])\n",
    "calc_tax(df, df_inc, 5287, [5283, 5284, 5285, 5286])\n",
    "calc_tax(df, df_inc, 5806, [5782, 5789, 5791])\n",
    "calc_tax(df, df_inc, 6077, [6055, 6064, 6073, 6074, 6075])\n",
    "calc_tax(df, df_inc, 6253, [6234, 6242, 6243, 6244])\n",
    "calc_tax(df, df_inc, 6417, [6402, 6409, 6410, 6411, 6414, 6415])\n",
    "df.drop(columns=\"name_\", inplace=True)"
   ]
  },
  {
   "cell_type": "code",
   "execution_count": 32,
   "metadata": {},
   "outputs": [
    {
     "data": {
      "text/html": [
       "<div>\n",
       "<style scoped>\n",
       "    .dataframe tbody tr th:only-of-type {\n",
       "        vertical-align: middle;\n",
       "    }\n",
       "\n",
       "    .dataframe tbody tr th {\n",
       "        vertical-align: top;\n",
       "    }\n",
       "\n",
       "    .dataframe thead th {\n",
       "        text-align: right;\n",
       "    }\n",
       "</style>\n",
       "<table border=\"1\" class=\"dataframe\">\n",
       "  <thead>\n",
       "    <tr style=\"text-align: right;\">\n",
       "      <th></th>\n",
       "      <th>total_tax_income</th>\n",
       "      <th>per_capita_tax_income</th>\n",
       "    </tr>\n",
       "  </thead>\n",
       "  <tbody>\n",
       "    <tr>\n",
       "      <th>count</th>\n",
       "      <td>2202.000000</td>\n",
       "      <td>2202.000000</td>\n",
       "    </tr>\n",
       "    <tr>\n",
       "      <th>mean</th>\n",
       "      <td>129.270913</td>\n",
       "      <td>32367.225014</td>\n",
       "    </tr>\n",
       "    <tr>\n",
       "      <th>std</th>\n",
       "      <td>465.156304</td>\n",
       "      <td>14083.570349</td>\n",
       "    </tr>\n",
       "    <tr>\n",
       "      <th>min</th>\n",
       "      <td>0.390700</td>\n",
       "      <td>10148.863636</td>\n",
       "    </tr>\n",
       "    <tr>\n",
       "      <th>25%</th>\n",
       "      <td>20.517875</td>\n",
       "      <td>25932.248397</td>\n",
       "    </tr>\n",
       "    <tr>\n",
       "      <th>50%</th>\n",
       "      <td>47.267250</td>\n",
       "      <td>29743.091310</td>\n",
       "    </tr>\n",
       "    <tr>\n",
       "      <th>75%</th>\n",
       "      <td>116.128050</td>\n",
       "      <td>34874.488581</td>\n",
       "    </tr>\n",
       "    <tr>\n",
       "      <th>max</th>\n",
       "      <td>16243.491000</td>\n",
       "      <td>402641.206030</td>\n",
       "    </tr>\n",
       "  </tbody>\n",
       "</table>\n",
       "</div>"
      ],
      "text/plain": [
       "       total_tax_income  per_capita_tax_income\n",
       "count       2202.000000            2202.000000\n",
       "mean         129.270913           32367.225014\n",
       "std          465.156304           14083.570349\n",
       "min            0.390700           10148.863636\n",
       "25%           20.517875           25932.248397\n",
       "50%           47.267250           29743.091310\n",
       "75%          116.128050           34874.488581\n",
       "max        16243.491000          402641.206030"
      ]
     },
     "execution_count": 32,
     "metadata": {},
     "output_type": "execute_result"
    }
   ],
   "source": [
    "df[[\"total_tax_income\", \"per_capita_tax_income\"]].describe()"
   ]
  },
  {
   "cell_type": "code",
   "execution_count": 33,
   "metadata": {},
   "outputs": [
    {
     "data": {
      "image/png": "[encoded data removed]",
      "text/plain": [
       "<Figure size 648x432 with 4 Axes>"
      ]
     },
     "metadata": {
      "needs_background": "light"
     },
     "output_type": "display_data"
    }
   ],
   "source": [
    "fig, axs = plt.subplots(2, 2, figsize = (9, 6))\n",
    "sns.distplot(df[\"total_tax_income\"], kde = False, ax = axs[0, 0])\n",
    "sns.distplot(np.log(df[\"total_tax_income\"]), kde = False, ax = axs[0, 1])\n",
    "axs[0, 1].set_xlabel(\"log(total_tax_income)\")\n",
    "sns.distplot(df[\"per_capita_tax_income\"], kde = False, ax = axs[1, 0])\n",
    "sns.distplot(np.log(df[\"per_capita_tax_income\"]), kde = False, ax = axs[1, 1])\n",
    "axs[1, 1].set_xlabel(\"log(per_capita_tax_income)\")\n",
    "plt.tight_layout()\n",
    "plt.show()"
   ]
  },
  {
   "cell_type": "markdown",
   "metadata": {},
   "source": [
    "Total tax income and per capita tax income are very skewed. Log-transform will be helpful. Have to look at outliers."
   ]
  },
  {
   "cell_type": "code",
   "execution_count": 34,
   "metadata": {},
   "outputs": [
    {
     "data": {
      "text/html": [
       "<div>\n",
       "<style scoped>\n",
       "    .dataframe tbody tr th:only-of-type {\n",
       "        vertical-align: middle;\n",
       "    }\n",
       "\n",
       "    .dataframe tbody tr th {\n",
       "        vertical-align: top;\n",
       "    }\n",
       "\n",
       "    .dataframe thead th {\n",
       "        text-align: right;\n",
       "    }\n",
       "</style>\n",
       "<table border=\"1\" class=\"dataframe\">\n",
       "  <thead>\n",
       "    <tr style=\"text-align: right;\">\n",
       "      <th></th>\n",
       "      <th>total_tax_income</th>\n",
       "      <th>log_total_tax_income</th>\n",
       "      <th>per_capita_tax_income</th>\n",
       "      <th>log_per_capita_tax_income</th>\n",
       "      <th>po_value</th>\n",
       "    </tr>\n",
       "  </thead>\n",
       "  <tbody>\n",
       "    <tr>\n",
       "      <th>total_tax_income</th>\n",
       "      <td>1.000000</td>\n",
       "      <td>0.443659</td>\n",
       "      <td>0.110432</td>\n",
       "      <td>0.139403</td>\n",
       "      <td>-0.164110</td>\n",
       "    </tr>\n",
       "    <tr>\n",
       "      <th>log_total_tax_income</th>\n",
       "      <td>0.443659</td>\n",
       "      <td>1.000000</td>\n",
       "      <td>0.263579</td>\n",
       "      <td>0.355314</td>\n",
       "      <td>-0.191861</td>\n",
       "    </tr>\n",
       "    <tr>\n",
       "      <th>per_capita_tax_income</th>\n",
       "      <td>0.110432</td>\n",
       "      <td>0.263579</td>\n",
       "      <td>1.000000</td>\n",
       "      <td>0.877050</td>\n",
       "      <td>-0.125226</td>\n",
       "    </tr>\n",
       "    <tr>\n",
       "      <th>log_per_capita_tax_income</th>\n",
       "      <td>0.139403</td>\n",
       "      <td>0.355314</td>\n",
       "      <td>0.877050</td>\n",
       "      <td>1.000000</td>\n",
       "      <td>-0.190193</td>\n",
       "    </tr>\n",
       "    <tr>\n",
       "      <th>po_value</th>\n",
       "      <td>-0.164110</td>\n",
       "      <td>-0.191861</td>\n",
       "      <td>-0.125226</td>\n",
       "      <td>-0.190193</td>\n",
       "      <td>1.000000</td>\n",
       "    </tr>\n",
       "  </tbody>\n",
       "</table>\n",
       "</div>"
      ],
      "text/plain": [
       "                           total_tax_income  log_total_tax_income  \\\n",
       "total_tax_income                   1.000000              0.443659   \n",
       "log_total_tax_income               0.443659              1.000000   \n",
       "per_capita_tax_income              0.110432              0.263579   \n",
       "log_per_capita_tax_income          0.139403              0.355314   \n",
       "po_value                          -0.164110             -0.191861   \n",
       "\n",
       "                           per_capita_tax_income  log_per_capita_tax_income  \\\n",
       "total_tax_income                        0.110432                   0.139403   \n",
       "log_total_tax_income                    0.263579                   0.355314   \n",
       "per_capita_tax_income                   1.000000                   0.877050   \n",
       "log_per_capita_tax_income               0.877050                   1.000000   \n",
       "po_value                               -0.125226                  -0.190193   \n",
       "\n",
       "                           po_value  \n",
       "total_tax_income          -0.164110  \n",
       "log_total_tax_income      -0.191861  \n",
       "per_capita_tax_income     -0.125226  \n",
       "log_per_capita_tax_income -0.190193  \n",
       "po_value                   1.000000  "
      ]
     },
     "execution_count": 34,
     "metadata": {},
     "output_type": "execute_result"
    }
   ],
   "source": [
    "df[\"log_total_tax_income\"] = np.log(df[\"total_tax_income\"])\n",
    "df[\"log_per_capita_tax_income\"] = np.log(df[\"per_capita_tax_income\"])\n",
    "df[[\"total_tax_income\", \"log_total_tax_income\", \"per_capita_tax_income\", \"log_per_capita_tax_income\", \"po_value\"]].corr()"
   ]
  },
  {
   "cell_type": "markdown",
   "metadata": {},
   "source": [
    "Only weak (negative) correlation between taxable income and po-value."
   ]
  },
  {
   "cell_type": "code",
   "execution_count": 35,
   "metadata": {},
   "outputs": [
    {
     "data": {
      "image/png": "[encoded data removed]",
      "text/plain": [
       "<Figure size 432x288 with 1 Axes>"
      ]
     },
     "metadata": {
      "needs_background": "light"
     },
     "output_type": "display_data"
    }
   ],
   "source": [
    "sns.regplot(data=df, x=\"po_value\", y=\"log_per_capita_tax_income\", scatter_kws={'s':2});"
   ]
  },
  {
   "cell_type": "code",
   "execution_count": 36,
   "metadata": {},
   "outputs": [],
   "source": [
    "df.drop(columns=[\"log_total_tax_income\", \"log_per_capita_tax_income\"], inplace=True)\n",
    "df.to_csv(os.path.join(\"data\", \"processed\", \"regional_portraits4.csv\"))"
   ]
  }
 ],
 "metadata": {
  "kernelspec": {
   "display_name": "Python 3",
   "language": "python",
   "name": "python3"
  },
  "language_info": {
   "codemirror_mode": {
    "name": "ipython",
    "version": 3
   },
   "file_extension": ".py",
   "mimetype": "text/x-python",
   "name": "python",
   "nbconvert_exporter": "python",
   "pygments_lexer": "ipython3",
   "version": "3.6.10"
  }
 },
 "nbformat": 4,
 "nbformat_minor": 4
}
