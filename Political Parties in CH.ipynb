{
 "cells": [
  {
   "cell_type": "markdown",
   "metadata": {},
   "source": [
    "# Political Parties in Switzerland\n",
    "\n",
    "In the capstone project I am using the voter shares of political parties in the Swiss federal parliament elections (\"Nationalsratswahlen\") of 2019. The \"regional portraits \" data set contains the election results for each party in each of the 2202 communes. Later on I will introduce a way to aggregate multiple parties' voter shares to a single indicator variable for the political orientation on a left-right scale. But firstI will present a summary of the parties profiles. Here, they are ordered by their voter shares on the national level.\n",
    "\n",
    "| Party name (de/fr/it) | Abbrev. (de/fr/it) | Wikipedia Link (de/en)  | Ideology  |   |\n",
    "|---|---|---|---|---|\n",
    "| **Schweizerische Volkspartei** | **SVP** | https://de.wikipedia.org/wiki/Schweizerische_Volkspartei | national-conservative, right-wing populist  |\n",
    "| Union démocratique du centre   | UDC   | https://en.wikipedia.org/wiki/Swiss_People%27s_Party  |\n",
    "| Unione Democratica del Centro   | UDC  |\n",
    "|\n",
    "| **Sozialdemokratische Partei**   | **SP**  | https://de.wikipedia.org/wiki/Sozialdemokratische_Partei_der_Schweiz  | social-democratic, socialist  |\n",
    "| Parti socialiste suisse   | PS  | https://en.wikipedia.org/wiki/Social_Democratic_Party_of_Switzerland  |\n",
    "| Partito socialista svizzero   |  PS |\n",
    "|\n",
    "| **Die Liberalen**   | **FDP**  | https://de.wikipedia.org/wiki/FDP.Die_Liberalen  | liberal, conservative-liberalism  |\n",
    "| Les Libéraux-Radicaux  | PLR  | https://en.wikipedia.org/wiki/FDP.The_Liberals  |\n",
    "| I Liberali  | PLR  |\n",
    "|\n",
    "| **Grüne Partei**  | **GPS**  | https://de.wikipedia.org/wiki/Grüne_Partei_der_Schweiz  | ecological, progressivism  |\n",
    "| Parti écologiste suisse   | PES  | https://en.wikipedia.org/wiki/Green_Party_of_Switzerland  |\n",
    "| Partito ecologista svizzero   | PES  |\n",
    "|\n",
    "| **Christlichdemokratische Volkspartei**  | **CVP**  | https://de.wikipedia.org/wiki/Christlichdemokratische_Volkspartei | christian-democratic, social conservatism  |\n",
    "| Parti démocrate-chrétien   | PDC  | https://en.wikipedia.org/wiki/Christian_Democratic_People%27s_Party_of_Switzerland   |\n",
    "| Partito Popolare Democratico | PPD  |\n",
    "|\n",
    "| **Grünliberale Partei**   | **GLP** | https://de.wikipedia.org/wiki/Grünliberale_Partei  | green liberalism  | \n",
    "| Parti vert’libéral   | PVL | https://en.wikipedia.org/wiki/Green_Liberal_Party_of_Switzerland  |\n",
    "| Partito Verde Liberale  | PVL |\n",
    "|\n",
    "| **Bürgerlich-Demokratische Partei** | **BDP**  | https://de.wikipedia.org/wiki/Bürgerlich-Demokratische_Partei  | fiscal conservatism, civil libertarianism  |   |\n",
    "| Parti bourgeois démocratique | PBD  | https://en.wikipedia.org/wiki/Conservative_Democratic_Party_of_Switzerland  |\n",
    "| Partito borghese democratico | PBD  | \n",
    "|\n",
    "| **Evangelische Volkspartei** | **EVP**  | https://de.wikipedia.org/wiki/Evangelische_Volkspartei  | christian-democratic, social conservatism  |   |\n",
    "| Parti évangelique | PEV  | https://en.wikipedia.org/wiki/Evangelical_People%27s_Party_of_Switzerland  |\n",
    "| Partito Evangelico | PEV  | \n",
    "|\n",
    "| **Partei der Arbeit der Schweiz**   | **PdA**  | https://de.wikipedia.org/wiki/Partei_der_Arbeit_der_Schweiz  | communism, socialism  |   |\n",
    "| Parti Suisse du Travail   | PST  | https://en.wikipedia.org/wiki/Swiss_Party_of_Labour  |\n",
    "| Partito Svizzero del Lavoro   | PSL  | \n"
   ]
  }
 ],
 "metadata": {
  "kernelspec": {
   "display_name": "Python 3",
   "language": "python",
   "name": "python3"
  },
  "language_info": {
   "name": ""
  }
 },
 "nbformat": 4,
 "nbformat_minor": 4
}
