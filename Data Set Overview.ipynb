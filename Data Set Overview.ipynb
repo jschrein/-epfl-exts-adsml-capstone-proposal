{
 "cells": [
  {
   "cell_type": "markdown",
   "metadata": {},
   "source": [
    "### Data Sets\n",
    "\n",
    "**Data Set**|**Source**|**Ref. Area**|**File**|**URL**\n",
    "-----|-----|-----|-----|-----\n",
    "Regional Portraits|FSO|Commune|je-e-21.03.01.xlsx|https://www.bfs.admin.ch/bfs/de/home/statistiken/kataloge-datenbanken.assetdetail.11587760.html\n",
    "Languages|FSO|Commune|20584_131.xlsx|https://www.atlas.bfs.admin.ch/maps/13/de/12474_3175_235_227/20584.html\n",
    "Religion|FSO|Canton|24071_131.xlsx|https://www.atlas.bfs.admin.ch/maps/13/de/15297_3522_107_70/24071.html\n",
    "Health Insurance|FOPH|Sub-Canton|praemienregionen-version-maerz-2020|https://www.bag.admin.ch/bag/en/home/versicherungen/krankenversicherung/krankenversicherung-versicherer-aufsicht/praemienregionen.html\n",
    "Taxable Income|FTA|Commune|23875_131.xlsx|https://www.atlas.bfs.admin.ch/maps/13/de/15132_9164_9202_7267/23875.html\n",
    "Unemployment|SECO|Canton|23868_131.xlsx|https://www.atlas.bfs.admin.ch/maps/13/de/15135_128_127_119/23868.html\n",
    "Crime Rate|FSO|District|24033_131.xlsx|https://www.atlas.bfs.admin.ch/maps/13/de/15275_3862_11461_7266/24033.html\n",
    "Spatial Typology|FSO|Commune|20593_131.xlsx|https://www.atlas.bfs.admin.ch/maps/13/de/12360_12482_3191_227/20593.html\n",
    "Ticket Vending Machines|SBB|Commune|billetautomat.csv|https://data.sbb.ch/explore/dataset/billetautomat/information/\n",
    "Geo Location|FSO|Commune|be-b-00.03-gg20.xlsx|https://www.bfs.admin.ch/bfs/en/home/services/geostat/swiss-federal-statistics-geodata/administrative-boundaries/generalized-boundaries-local-regional-authorities.assetdetail.14776427.html\n",
    "Airport Distance|-|Commune|-|own computation\n",
    "Border Distance|-|Commune|-|own computation"
   ]
  },
  {
   "cell_type": "markdown",
   "metadata": {},
   "source": [
    "### Data Set Variables\n",
    "\n",
    "**Data Set**|**Variables**\n",
    "-----|-----\n",
    "Regional Portraits|Population: residents, change, density, foreigners\n",
    "…|Age distribution, 0-19y, 20-64y, 65+y\n",
    "…|Birth, mortality, marriage, divorce\n",
    "…|Households, number and size\n",
    "…|Area: total, settlements, agricultural, wooded, unproductive, with changes\n",
    "…|Economy: employees, businesses, primary, secondary, tertiary sectors\n",
    "…|Housing: dwelling vacancy, new housing\n",
    "…|Social assistance rate\n",
    "…|Voter shares national elections for 10 parties\n",
    "Languages|de/fr/it/rm\n",
    "Religion|Catholic, protestant, other, none\n",
    "Health Insurance|Average health insurance premium adults and children\n",
    "Taxable Income|Average taxable income per capita\n",
    "Unemployment|Unemployment rate\n",
    "Crime Rate|Crimes per inhabitant\n",
    "Spatial Typology|City/periurban/rural, density, central/peripheral (9 different types)\n",
    "Ticket Vending Machines|Geo-locations of SBB ticket vending machines\n",
    "Raw Location|Coordinates, elevation, area\n",
    "Airport Distance|Computed from location\n",
    "Border Distance|Computed from location"
   ]
  },
  {
   "cell_type": "markdown",
   "metadata": {
    "toc-hr-collapsed": false
   },
   "source": [
    "### Sources\n",
    "\n",
    "**Source**|**Source Name**\n",
    "-----|-----\n",
    "FSO (BFS)|Federal Statistical Office\n",
    "FOPH (BAG)|Federal Office of Public Health\n",
    "FTA (ESTV)|Federal Tax Administration\n",
    "SECO|State Secretariat for Economic Affairs\n",
    "SBB|Swiss Federal Railways"
   ]
  }
 ],
 "metadata": {
  "kernelspec": {
   "display_name": "Python 3",
   "language": "python",
   "name": "python3"
  },
  "language_info": {
   "codemirror_mode": {
    "name": "ipython",
    "version": 3
   },
   "file_extension": ".py",
   "mimetype": "text/x-python",
   "name": "python",
   "nbconvert_exporter": "python",
   "pygments_lexer": "ipython3",
   "version": "3.6.10"
  }
 },
 "nbformat": 4,
 "nbformat_minor": 4
}
